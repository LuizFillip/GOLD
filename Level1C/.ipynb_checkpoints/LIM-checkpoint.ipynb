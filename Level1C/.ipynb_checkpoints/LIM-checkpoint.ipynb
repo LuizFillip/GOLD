{
 "cells": [
  {
   "cell_type": "code",
   "execution_count": 2,
   "metadata": {},
   "outputs": [],
   "source": [
    "import matplotlib.pyplot as plt\n",
    "import pandas as pd\n",
    "import xarray as xr\n",
    "import numpy as np \n",
    "import cartopy.feature as cf\n",
    "import cartopy.crs as ccrs\n",
    "\n",
    "np.warnings.filterwarnings('ignore')\n",
    "import os\n",
    "import datetime\n",
    "\n",
    "from split_filename import *\n",
    "from nigthshade import *\n",
    "from GOLD import *"
   ]
  },
  {
   "cell_type": "code",
   "execution_count": null,
   "metadata": {},
   "outputs": [],
   "source": [
    "infile = 'C:\\\\Users\\\\Luiz Felipe\\\\Downloads\\\\OCC2019111120191112\\\\tmp\\\\archive_L1C\\\\2019\\\\315\\\\' \n"
   ]
  }
 ],
 "metadata": {
  "kernelspec": {
   "display_name": "Python 3",
   "language": "python",
   "name": "python3"
  },
  "language_info": {
   "codemirror_mode": {
    "name": "ipython",
    "version": 3
   },
   "file_extension": ".py",
   "mimetype": "text/x-python",
   "name": "python",
   "nbconvert_exporter": "python",
   "pygments_lexer": "ipython3",
   "version": "3.7.6"
  }
 },
 "nbformat": 4,
 "nbformat_minor": 4
}
